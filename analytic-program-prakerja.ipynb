{
 "cells": [
  {
   "cell_type": "markdown",
   "id": "a3c07bdb",
   "metadata": {},
   "source": [
    "# Exploratory Data Analysis"
   ]
  },
  {
   "cell_type": "markdown",
   "id": "80b673d5",
   "metadata": {},
   "source": [
    "Analisa data eksploratif oleh Robby Rodhiyya\n",
    "\n",
    "---"
   ]
  },
  {
   "cell_type": "markdown",
   "id": "1bd212aa",
   "metadata": {},
   "source": [
    "Dari data yang disediakan pada file **Data Analyst Case Study**, akan dilakukan analisis untuk melihat informasi berupa:\n",
    "\n",
    "1. Statistik deskriptif peserta Program Kartu Prakerja\n",
    "2. Analisis perbandingan kelompok\n",
    "3. Analisis korelasi\n",
    "4. Analisis regresi\n",
    "\n",
    "---\n",
    "\n",
    "Adapun tahapan yang dilakukan yaitu:\n",
    "1. Data Collecting\n",
    "2. Data Cleansing\n",
    "3. Data Analysis\n",
    "4. Data Modeling\n",
    "4. Data Visualization\n",
    "\n",
    "---"
   ]
  },
  {
   "cell_type": "markdown",
   "id": "769f93ca",
   "metadata": {},
   "source": [
    "## Data Collecting"
   ]
  },
  {
   "cell_type": "code",
   "execution_count": 280,
   "id": "67ab24d8",
   "metadata": {},
   "outputs": [],
   "source": [
    "# import library\n",
    "\n",
    "import pandas as pd\n",
    "import numpy as np\n",
    "import matplotlib.pyplot as plt\n",
    "from sklearn.linear_model import LinearRegression"
   ]
  },
  {
   "cell_type": "code",
   "execution_count": 281,
   "id": "dba14158",
   "metadata": {},
   "outputs": [
    {
     "data": {
      "text/html": [
       "<div>\n",
       "<style scoped>\n",
       "    .dataframe tbody tr th:only-of-type {\n",
       "        vertical-align: middle;\n",
       "    }\n",
       "\n",
       "    .dataframe tbody tr th {\n",
       "        vertical-align: top;\n",
       "    }\n",
       "\n",
       "    .dataframe thead th {\n",
       "        text-align: right;\n",
       "    }\n",
       "</style>\n",
       "<table border=\"1\" class=\"dataframe\">\n",
       "  <thead>\n",
       "    <tr style=\"text-align: right;\">\n",
       "      <th></th>\n",
       "      <th>ID</th>\n",
       "      <th>Grup Umur</th>\n",
       "      <th>Penghasilan per Bulan</th>\n",
       "      <th>Provinsi</th>\n",
       "      <th>Jumlah Pelatihan Diselesaikan</th>\n",
       "      <th>Skor Kemampuan Dasar</th>\n",
       "      <th>Bidang Pelatihan  Terakhir</th>\n",
       "      <th>Skor Penilaian Pra Pelatihan Terakhir</th>\n",
       "      <th>Skor Penilaian Pasca Pelatihan Terakhir</th>\n",
       "    </tr>\n",
       "  </thead>\n",
       "  <tbody>\n",
       "    <tr>\n",
       "      <th>0</th>\n",
       "      <td>1</td>\n",
       "      <td>18-25</td>\n",
       "      <td>Dibawah Rp 1 Juta</td>\n",
       "      <td>B</td>\n",
       "      <td>1</td>\n",
       "      <td>46</td>\n",
       "      <td>Bahasa</td>\n",
       "      <td>26</td>\n",
       "      <td>31</td>\n",
       "    </tr>\n",
       "    <tr>\n",
       "      <th>1</th>\n",
       "      <td>2</td>\n",
       "      <td>18-25</td>\n",
       "      <td>Rp 1-3.5 Juta</td>\n",
       "      <td>A</td>\n",
       "      <td>2</td>\n",
       "      <td>19</td>\n",
       "      <td>Bisnis</td>\n",
       "      <td>5</td>\n",
       "      <td>7</td>\n",
       "    </tr>\n",
       "    <tr>\n",
       "      <th>2</th>\n",
       "      <td>3</td>\n",
       "      <td>Diatas 45</td>\n",
       "      <td>Dibawah Rp 1 Juta</td>\n",
       "      <td>A</td>\n",
       "      <td>1</td>\n",
       "      <td>23</td>\n",
       "      <td>Bisnis</td>\n",
       "      <td>3</td>\n",
       "      <td>33</td>\n",
       "    </tr>\n",
       "    <tr>\n",
       "      <th>3</th>\n",
       "      <td>4</td>\n",
       "      <td>Diatas 45</td>\n",
       "      <td>Rp 1-3.5 Juta</td>\n",
       "      <td>C</td>\n",
       "      <td>3</td>\n",
       "      <td>48</td>\n",
       "      <td>Bisnis</td>\n",
       "      <td>28</td>\n",
       "      <td>46</td>\n",
       "    </tr>\n",
       "    <tr>\n",
       "      <th>4</th>\n",
       "      <td>5</td>\n",
       "      <td>Diatas 45</td>\n",
       "      <td>Dibawah Rp 1 Juta</td>\n",
       "      <td>B</td>\n",
       "      <td>1</td>\n",
       "      <td>48</td>\n",
       "      <td>Bisnis</td>\n",
       "      <td>28</td>\n",
       "      <td>38</td>\n",
       "    </tr>\n",
       "  </tbody>\n",
       "</table>\n",
       "</div>"
      ],
      "text/plain": [
       "   ID  Grup Umur Penghasilan per Bulan Provinsi  \\\n",
       "0   1      18-25     Dibawah Rp 1 Juta        B   \n",
       "1   2      18-25         Rp 1-3.5 Juta        A   \n",
       "2   3  Diatas 45     Dibawah Rp 1 Juta        A   \n",
       "3   4  Diatas 45         Rp 1-3.5 Juta        C   \n",
       "4   5  Diatas 45     Dibawah Rp 1 Juta        B   \n",
       "\n",
       "   Jumlah Pelatihan Diselesaikan  Skor Kemampuan Dasar  \\\n",
       "0                              1                    46   \n",
       "1                              2                    19   \n",
       "2                              1                    23   \n",
       "3                              3                    48   \n",
       "4                              1                    48   \n",
       "\n",
       "  Bidang Pelatihan  Terakhir  Skor Penilaian Pra Pelatihan Terakhir  \\\n",
       "0                     Bahasa                                     26   \n",
       "1                     Bisnis                                      5   \n",
       "2                     Bisnis                                      3   \n",
       "3                     Bisnis                                     28   \n",
       "4                     Bisnis                                     28   \n",
       "\n",
       "   Skor Penilaian Pasca Pelatihan Terakhir  \n",
       "0                                       31  \n",
       "1                                        7  \n",
       "2                                       33  \n",
       "3                                       46  \n",
       "4                                       38  "
      ]
     },
     "execution_count": 281,
     "metadata": {},
     "output_type": "execute_result"
    }
   ],
   "source": [
    "# baca data csv sebagai dataframe dan cek 5 baris teratas \n",
    "\n",
    "url = 'https://drive.google.com/file/d/1sGfThM5pOT_D0ZkjTIu6RHWeoPkKixYT/view?usp=sharing'\n",
    "file_id = url.split('/')[-2]\n",
    "dwn_url = 'https://drive.google.com/uc?id=' + file_id\n",
    "df = pd.read_csv(dwn_url)\n",
    "\n",
    "df.head()"
   ]
  },
  {
   "cell_type": "code",
   "execution_count": 282,
   "id": "504ee099",
   "metadata": {},
   "outputs": [
    {
     "name": "stdout",
     "output_type": "stream",
     "text": [
      "<class 'pandas.core.frame.DataFrame'>\n",
      "RangeIndex: 200 entries, 0 to 199\n",
      "Data columns (total 9 columns):\n",
      " #   Column                                   Non-Null Count  Dtype \n",
      "---  ------                                   --------------  ----- \n",
      " 0   ID                                       200 non-null    int64 \n",
      " 1   Grup Umur                                200 non-null    object\n",
      " 2   Penghasilan per Bulan                    200 non-null    object\n",
      " 3   Provinsi                                 200 non-null    object\n",
      " 4   Jumlah Pelatihan Diselesaikan            200 non-null    int64 \n",
      " 5   Skor Kemampuan Dasar                     200 non-null    int64 \n",
      " 6   Bidang Pelatihan  Terakhir               200 non-null    object\n",
      " 7   Skor Penilaian Pra Pelatihan Terakhir    200 non-null    int64 \n",
      " 8   Skor Penilaian Pasca Pelatihan Terakhir  200 non-null    int64 \n",
      "dtypes: int64(5), object(4)\n",
      "memory usage: 14.2+ KB\n"
     ]
    }
   ],
   "source": [
    "# cek info dataframe\n",
    "\n",
    "df.info()"
   ]
  },
  {
   "cell_type": "markdown",
   "id": "0c67d972",
   "metadata": {},
   "source": [
    "---"
   ]
  },
  {
   "cell_type": "markdown",
   "id": "165c6e05",
   "metadata": {},
   "source": [
    "## Data Cleansing"
   ]
  },
  {
   "cell_type": "code",
   "execution_count": 283,
   "id": "f0f75ffd",
   "metadata": {},
   "outputs": [
    {
     "data": {
      "text/plain": [
       "ID                                         0\n",
       "Grup Umur                                  0\n",
       "Penghasilan per Bulan                      0\n",
       "Provinsi                                   0\n",
       "Jumlah Pelatihan Diselesaikan              0\n",
       "Skor Kemampuan Dasar                       0\n",
       "Bidang Pelatihan  Terakhir                 0\n",
       "Skor Penilaian Pra Pelatihan Terakhir      0\n",
       "Skor Penilaian Pasca Pelatihan Terakhir    0\n",
       "dtype: int64"
      ]
     },
     "execution_count": 283,
     "metadata": {},
     "output_type": "execute_result"
    }
   ],
   "source": [
    "# cek kolom null\n",
    "\n",
    "df.isnull().sum()"
   ]
  },
  {
   "cell_type": "code",
   "execution_count": 284,
   "id": "7026dce0",
   "metadata": {},
   "outputs": [],
   "source": [
    "# perubahan pada nama kolom\n",
    "\n",
    "df = df.rename(columns={\n",
    "    'ID': 'id',\n",
    "    'Grup Umur': 'grup_umur',\n",
    "    'Penghasilan per Bulan': 'penghasilan_per_bulan',\n",
    "    'Provinsi': 'provinsi',\n",
    "    'Jumlah Pelatihan Diselesaikan': 'jumlah_pelatihan_selesai',\n",
    "    'Skor Kemampuan Dasar': 'skor_kemampuan_dasar',\n",
    "    'Bidang Pelatihan  Terakhir': 'bidang_pelatihan',\n",
    "    'Skor Penilaian Pra Pelatihan Terakhir': 'skor_penilaian_pra',\n",
    "    'Skor Penilaian Pasca Pelatihan Terakhir': 'skor_penilaian_pasca'\n",
    "})"
   ]
  },
  {
   "cell_type": "code",
   "execution_count": 285,
   "id": "8027ff41",
   "metadata": {},
   "outputs": [
    {
     "data": {
      "text/html": [
       "<div>\n",
       "<style scoped>\n",
       "    .dataframe tbody tr th:only-of-type {\n",
       "        vertical-align: middle;\n",
       "    }\n",
       "\n",
       "    .dataframe tbody tr th {\n",
       "        vertical-align: top;\n",
       "    }\n",
       "\n",
       "    .dataframe thead th {\n",
       "        text-align: right;\n",
       "    }\n",
       "</style>\n",
       "<table border=\"1\" class=\"dataframe\">\n",
       "  <thead>\n",
       "    <tr style=\"text-align: right;\">\n",
       "      <th></th>\n",
       "      <th>id</th>\n",
       "      <th>grup_umur</th>\n",
       "      <th>penghasilan_per_bulan</th>\n",
       "      <th>provinsi</th>\n",
       "      <th>jumlah_pelatihan_selesai</th>\n",
       "      <th>skor_kemampuan_dasar</th>\n",
       "      <th>bidang_pelatihan</th>\n",
       "      <th>skor_penilaian_pra</th>\n",
       "      <th>skor_penilaian_pasca</th>\n",
       "      <th>data</th>\n",
       "    </tr>\n",
       "  </thead>\n",
       "  <tbody>\n",
       "    <tr>\n",
       "      <th>0</th>\n",
       "      <td>1</td>\n",
       "      <td>18-25</td>\n",
       "      <td>Dibawah Rp 1 Juta</td>\n",
       "      <td>B</td>\n",
       "      <td>1</td>\n",
       "      <td>46</td>\n",
       "      <td>Bahasa</td>\n",
       "      <td>26</td>\n",
       "      <td>31</td>\n",
       "      <td>1</td>\n",
       "    </tr>\n",
       "    <tr>\n",
       "      <th>1</th>\n",
       "      <td>2</td>\n",
       "      <td>18-25</td>\n",
       "      <td>Rp 1-3.5 Juta</td>\n",
       "      <td>A</td>\n",
       "      <td>2</td>\n",
       "      <td>19</td>\n",
       "      <td>Bisnis</td>\n",
       "      <td>5</td>\n",
       "      <td>7</td>\n",
       "      <td>1</td>\n",
       "    </tr>\n",
       "    <tr>\n",
       "      <th>2</th>\n",
       "      <td>3</td>\n",
       "      <td>Diatas 45</td>\n",
       "      <td>Dibawah Rp 1 Juta</td>\n",
       "      <td>A</td>\n",
       "      <td>1</td>\n",
       "      <td>23</td>\n",
       "      <td>Bisnis</td>\n",
       "      <td>3</td>\n",
       "      <td>33</td>\n",
       "      <td>1</td>\n",
       "    </tr>\n",
       "    <tr>\n",
       "      <th>3</th>\n",
       "      <td>4</td>\n",
       "      <td>Diatas 45</td>\n",
       "      <td>Rp 1-3.5 Juta</td>\n",
       "      <td>C</td>\n",
       "      <td>3</td>\n",
       "      <td>48</td>\n",
       "      <td>Bisnis</td>\n",
       "      <td>28</td>\n",
       "      <td>46</td>\n",
       "      <td>1</td>\n",
       "    </tr>\n",
       "    <tr>\n",
       "      <th>4</th>\n",
       "      <td>5</td>\n",
       "      <td>Diatas 45</td>\n",
       "      <td>Dibawah Rp 1 Juta</td>\n",
       "      <td>B</td>\n",
       "      <td>1</td>\n",
       "      <td>48</td>\n",
       "      <td>Bisnis</td>\n",
       "      <td>28</td>\n",
       "      <td>38</td>\n",
       "      <td>1</td>\n",
       "    </tr>\n",
       "  </tbody>\n",
       "</table>\n",
       "</div>"
      ],
      "text/plain": [
       "   id  grup_umur penghasilan_per_bulan provinsi  jumlah_pelatihan_selesai  \\\n",
       "0   1      18-25     Dibawah Rp 1 Juta        B                         1   \n",
       "1   2      18-25         Rp 1-3.5 Juta        A                         2   \n",
       "2   3  Diatas 45     Dibawah Rp 1 Juta        A                         1   \n",
       "3   4  Diatas 45         Rp 1-3.5 Juta        C                         3   \n",
       "4   5  Diatas 45     Dibawah Rp 1 Juta        B                         1   \n",
       "\n",
       "   skor_kemampuan_dasar bidang_pelatihan  skor_penilaian_pra  \\\n",
       "0                    46           Bahasa                  26   \n",
       "1                    19           Bisnis                   5   \n",
       "2                    23           Bisnis                   3   \n",
       "3                    48           Bisnis                  28   \n",
       "4                    48           Bisnis                  28   \n",
       "\n",
       "   skor_penilaian_pasca  data  \n",
       "0                    31     1  \n",
       "1                     7     1  \n",
       "2                    33     1  \n",
       "3                    46     1  \n",
       "4                    38     1  "
      ]
     },
     "execution_count": 285,
     "metadata": {},
     "output_type": "execute_result"
    }
   ],
   "source": [
    "# penambahan kolom data untuk memudahkan analisa deskriptif\n",
    "\n",
    "df['data'] = 1\n",
    "df.head()"
   ]
  },
  {
   "cell_type": "markdown",
   "id": "e968350f",
   "metadata": {},
   "source": [
    "---"
   ]
  },
  {
   "cell_type": "markdown",
   "id": "926b35ea",
   "metadata": {},
   "source": [
    " ## Data Analysis"
   ]
  },
  {
   "cell_type": "markdown",
   "id": "16ca1ff0",
   "metadata": {},
   "source": [
    "#### 1. Statistik deskriptif peserta Program Kartu Prakerja"
   ]
  },
  {
   "cell_type": "code",
   "execution_count": 286,
   "id": "3892133a",
   "metadata": {},
   "outputs": [
    {
     "data": {
      "text/html": [
       "<div>\n",
       "<style scoped>\n",
       "    .dataframe tbody tr th:only-of-type {\n",
       "        vertical-align: middle;\n",
       "    }\n",
       "\n",
       "    .dataframe tbody tr th {\n",
       "        vertical-align: top;\n",
       "    }\n",
       "\n",
       "    .dataframe thead th {\n",
       "        text-align: right;\n",
       "    }\n",
       "</style>\n",
       "<table border=\"1\" class=\"dataframe\">\n",
       "  <thead>\n",
       "    <tr style=\"text-align: right;\">\n",
       "      <th></th>\n",
       "      <th>grup_umur</th>\n",
       "      <th>total</th>\n",
       "    </tr>\n",
       "  </thead>\n",
       "  <tbody>\n",
       "    <tr>\n",
       "      <th>0</th>\n",
       "      <td>18-25</td>\n",
       "      <td>55</td>\n",
       "    </tr>\n",
       "    <tr>\n",
       "      <th>1</th>\n",
       "      <td>26-45</td>\n",
       "      <td>109</td>\n",
       "    </tr>\n",
       "    <tr>\n",
       "      <th>2</th>\n",
       "      <td>Diatas 45</td>\n",
       "      <td>36</td>\n",
       "    </tr>\n",
       "  </tbody>\n",
       "</table>\n",
       "</div>"
      ],
      "text/plain": [
       "   grup_umur  total\n",
       "0      18-25     55\n",
       "1      26-45    109\n",
       "2  Diatas 45     36"
      ]
     },
     "execution_count": 286,
     "metadata": {},
     "output_type": "execute_result"
    }
   ],
   "source": [
    "# distribusi peserta berdasarkan umur\n",
    "\n",
    "distribusi_umur = df[['data', 'grup_umur']].groupby('grup_umur', as_index=False).count().rename(columns={'data': 'total'})\n",
    "distribusi_umur"
   ]
  },
  {
   "cell_type": "code",
   "execution_count": 287,
   "id": "4141f91c",
   "metadata": {},
   "outputs": [
    {
     "data": {
      "text/html": [
       "<div>\n",
       "<style scoped>\n",
       "    .dataframe tbody tr th:only-of-type {\n",
       "        vertical-align: middle;\n",
       "    }\n",
       "\n",
       "    .dataframe tbody tr th {\n",
       "        vertical-align: top;\n",
       "    }\n",
       "\n",
       "    .dataframe thead th {\n",
       "        text-align: right;\n",
       "    }\n",
       "</style>\n",
       "<table border=\"1\" class=\"dataframe\">\n",
       "  <thead>\n",
       "    <tr style=\"text-align: right;\">\n",
       "      <th></th>\n",
       "      <th>penghasilan_per_bulan</th>\n",
       "      <th>total</th>\n",
       "    </tr>\n",
       "  </thead>\n",
       "  <tbody>\n",
       "    <tr>\n",
       "      <th>0</th>\n",
       "      <td>Diatas Rp 3.5 Juta</td>\n",
       "      <td>56</td>\n",
       "    </tr>\n",
       "    <tr>\n",
       "      <th>1</th>\n",
       "      <td>Dibawah Rp 1 Juta</td>\n",
       "      <td>37</td>\n",
       "    </tr>\n",
       "    <tr>\n",
       "      <th>2</th>\n",
       "      <td>Rp 1-3.5 Juta</td>\n",
       "      <td>107</td>\n",
       "    </tr>\n",
       "  </tbody>\n",
       "</table>\n",
       "</div>"
      ],
      "text/plain": [
       "  penghasilan_per_bulan  total\n",
       "0    Diatas Rp 3.5 Juta     56\n",
       "1     Dibawah Rp 1 Juta     37\n",
       "2         Rp 1-3.5 Juta    107"
      ]
     },
     "execution_count": 287,
     "metadata": {},
     "output_type": "execute_result"
    }
   ],
   "source": [
    "# distribusi peserta berdasarkan penghasilan\n",
    "\n",
    "distribusi_penghasilan = df[['data', 'penghasilan_per_bulan']].groupby('penghasilan_per_bulan', as_index=False).count().rename(columns={'data': 'total'})\n",
    "distribusi_penghasilan"
   ]
  },
  {
   "cell_type": "code",
   "execution_count": 288,
   "id": "ec7e82fa",
   "metadata": {},
   "outputs": [
    {
     "data": {
      "text/html": [
       "<div>\n",
       "<style scoped>\n",
       "    .dataframe tbody tr th:only-of-type {\n",
       "        vertical-align: middle;\n",
       "    }\n",
       "\n",
       "    .dataframe tbody tr th {\n",
       "        vertical-align: top;\n",
       "    }\n",
       "\n",
       "    .dataframe thead th {\n",
       "        text-align: right;\n",
       "    }\n",
       "</style>\n",
       "<table border=\"1\" class=\"dataframe\">\n",
       "  <thead>\n",
       "    <tr style=\"text-align: right;\">\n",
       "      <th></th>\n",
       "      <th>provinsi</th>\n",
       "      <th>total</th>\n",
       "    </tr>\n",
       "  </thead>\n",
       "  <tbody>\n",
       "    <tr>\n",
       "      <th>0</th>\n",
       "      <td>A</td>\n",
       "      <td>70</td>\n",
       "    </tr>\n",
       "    <tr>\n",
       "      <th>1</th>\n",
       "      <td>B</td>\n",
       "      <td>67</td>\n",
       "    </tr>\n",
       "    <tr>\n",
       "      <th>2</th>\n",
       "      <td>C</td>\n",
       "      <td>63</td>\n",
       "    </tr>\n",
       "  </tbody>\n",
       "</table>\n",
       "</div>"
      ],
      "text/plain": [
       "  provinsi  total\n",
       "0        A     70\n",
       "1        B     67\n",
       "2        C     63"
      ]
     },
     "execution_count": 288,
     "metadata": {},
     "output_type": "execute_result"
    }
   ],
   "source": [
    "# distribusi peserta berdasarkan provinsi\n",
    "\n",
    "distribusi_provinsi = df[['data', 'provinsi']].groupby('provinsi', as_index=False).count().rename(columns={'data': 'total'})\n",
    "distribusi_provinsi"
   ]
  },
  {
   "cell_type": "code",
   "execution_count": 289,
   "id": "5e2cfe8b",
   "metadata": {},
   "outputs": [
    {
     "data": {
      "text/html": [
       "<div>\n",
       "<style scoped>\n",
       "    .dataframe tbody tr th:only-of-type {\n",
       "        vertical-align: middle;\n",
       "    }\n",
       "\n",
       "    .dataframe tbody tr th {\n",
       "        vertical-align: top;\n",
       "    }\n",
       "\n",
       "    .dataframe thead th {\n",
       "        text-align: right;\n",
       "    }\n",
       "</style>\n",
       "<table border=\"1\" class=\"dataframe\">\n",
       "  <thead>\n",
       "    <tr style=\"text-align: right;\">\n",
       "      <th></th>\n",
       "      <th>bidang_pelatihan</th>\n",
       "      <th>total</th>\n",
       "    </tr>\n",
       "  </thead>\n",
       "  <tbody>\n",
       "    <tr>\n",
       "      <th>0</th>\n",
       "      <td>Bahasa</td>\n",
       "      <td>70</td>\n",
       "    </tr>\n",
       "    <tr>\n",
       "      <th>1</th>\n",
       "      <td>Bisnis</td>\n",
       "      <td>72</td>\n",
       "    </tr>\n",
       "    <tr>\n",
       "      <th>2</th>\n",
       "      <td>IT &amp; Data</td>\n",
       "      <td>58</td>\n",
       "    </tr>\n",
       "  </tbody>\n",
       "</table>\n",
       "</div>"
      ],
      "text/plain": [
       "  bidang_pelatihan  total\n",
       "0           Bahasa     70\n",
       "1           Bisnis     72\n",
       "2        IT & Data     58"
      ]
     },
     "execution_count": 289,
     "metadata": {},
     "output_type": "execute_result"
    }
   ],
   "source": [
    "# distribusi peserta berdasarkan bidang pelatihan\n",
    "\n",
    "distribusi_minat = df[['data', 'bidang_pelatihan']].groupby('bidang_pelatihan', as_index=False).count().rename(columns={'data': 'total'})\n",
    "distribusi_minat"
   ]
  },
  {
   "cell_type": "code",
   "execution_count": 290,
   "id": "022ce9c9",
   "metadata": {},
   "outputs": [
    {
     "data": {
      "text/html": [
       "<div>\n",
       "<style scoped>\n",
       "    .dataframe tbody tr th:only-of-type {\n",
       "        vertical-align: middle;\n",
       "    }\n",
       "\n",
       "    .dataframe tbody tr th {\n",
       "        vertical-align: top;\n",
       "    }\n",
       "\n",
       "    .dataframe thead th {\n",
       "        text-align: right;\n",
       "    }\n",
       "</style>\n",
       "<table border=\"1\" class=\"dataframe\">\n",
       "  <thead>\n",
       "    <tr style=\"text-align: right;\">\n",
       "      <th></th>\n",
       "      <th>grup_umur</th>\n",
       "      <th>jumlah_pelatihan_selesai</th>\n",
       "      <th>avg_pelatihan_selesai</th>\n",
       "    </tr>\n",
       "  </thead>\n",
       "  <tbody>\n",
       "    <tr>\n",
       "      <th>0</th>\n",
       "      <td>18-25</td>\n",
       "      <td>89</td>\n",
       "      <td>1.618182</td>\n",
       "    </tr>\n",
       "    <tr>\n",
       "      <th>1</th>\n",
       "      <td>26-45</td>\n",
       "      <td>214</td>\n",
       "      <td>1.963303</td>\n",
       "    </tr>\n",
       "    <tr>\n",
       "      <th>2</th>\n",
       "      <td>Diatas 45</td>\n",
       "      <td>48</td>\n",
       "      <td>1.333333</td>\n",
       "    </tr>\n",
       "  </tbody>\n",
       "</table>\n",
       "</div>"
      ],
      "text/plain": [
       "   grup_umur  jumlah_pelatihan_selesai  avg_pelatihan_selesai\n",
       "0      18-25                        89               1.618182\n",
       "1      26-45                       214               1.963303\n",
       "2  Diatas 45                        48               1.333333"
      ]
     },
     "execution_count": 290,
     "metadata": {},
     "output_type": "execute_result"
    }
   ],
   "source": [
    "# jumlah & rata-rata pelatihan selesai per umur\n",
    "\n",
    "selesai_per_umur = df[['grup_umur', 'jumlah_pelatihan_selesai']].groupby('grup_umur', as_index=False).agg(total=('jumlah_pelatihan_selesai', 'sum'), avg=('jumlah_pelatihan_selesai', 'mean')).rename(columns={'total': 'jumlah_pelatihan_selesai','avg': 'avg_pelatihan_selesai'})\n",
    "selesai_per_umur"
   ]
  },
  {
   "cell_type": "code",
   "execution_count": 291,
   "id": "4d12f1be",
   "metadata": {},
   "outputs": [
    {
     "data": {
      "text/html": [
       "<div>\n",
       "<style scoped>\n",
       "    .dataframe tbody tr th:only-of-type {\n",
       "        vertical-align: middle;\n",
       "    }\n",
       "\n",
       "    .dataframe tbody tr th {\n",
       "        vertical-align: top;\n",
       "    }\n",
       "\n",
       "    .dataframe thead th {\n",
       "        text-align: right;\n",
       "    }\n",
       "</style>\n",
       "<table border=\"1\" class=\"dataframe\">\n",
       "  <thead>\n",
       "    <tr style=\"text-align: right;\">\n",
       "      <th></th>\n",
       "      <th>bidang_pelatihan</th>\n",
       "      <th>jumlah_pelatihan_selesai</th>\n",
       "      <th>avg_pelatihan_selesai</th>\n",
       "    </tr>\n",
       "  </thead>\n",
       "  <tbody>\n",
       "    <tr>\n",
       "      <th>0</th>\n",
       "      <td>Bahasa</td>\n",
       "      <td>125</td>\n",
       "      <td>1.785714</td>\n",
       "    </tr>\n",
       "    <tr>\n",
       "      <th>1</th>\n",
       "      <td>Bisnis</td>\n",
       "      <td>121</td>\n",
       "      <td>1.680556</td>\n",
       "    </tr>\n",
       "    <tr>\n",
       "      <th>2</th>\n",
       "      <td>IT &amp; Data</td>\n",
       "      <td>105</td>\n",
       "      <td>1.810345</td>\n",
       "    </tr>\n",
       "  </tbody>\n",
       "</table>\n",
       "</div>"
      ],
      "text/plain": [
       "  bidang_pelatihan  jumlah_pelatihan_selesai  avg_pelatihan_selesai\n",
       "0           Bahasa                       125               1.785714\n",
       "1           Bisnis                       121               1.680556\n",
       "2        IT & Data                       105               1.810345"
      ]
     },
     "execution_count": 291,
     "metadata": {},
     "output_type": "execute_result"
    }
   ],
   "source": [
    "# jumlah & rata-rata pelatihan selesai per bidang pelatihan\n",
    "\n",
    "selesai_per_bidang = df[['bidang_pelatihan', 'jumlah_pelatihan_selesai']].groupby('bidang_pelatihan', as_index=False).agg(total=('jumlah_pelatihan_selesai', 'sum'), avg=('jumlah_pelatihan_selesai', 'mean')).rename(columns={'total': 'jumlah_pelatihan_selesai','avg': 'avg_pelatihan_selesai'})\n",
    "selesai_per_bidang"
   ]
  },
  {
   "cell_type": "markdown",
   "id": "7a10ec39",
   "metadata": {},
   "source": [
    "---"
   ]
  },
  {
   "cell_type": "markdown",
   "id": "a8cbfce4",
   "metadata": {},
   "source": [
    "#### 2. Analisis perbandingan kelompok"
   ]
  },
  {
   "cell_type": "code",
   "execution_count": 292,
   "id": "6c2941a1",
   "metadata": {},
   "outputs": [
    {
     "data": {
      "text/html": [
       "<div>\n",
       "<style scoped>\n",
       "    .dataframe tbody tr th:only-of-type {\n",
       "        vertical-align: middle;\n",
       "    }\n",
       "\n",
       "    .dataframe tbody tr th {\n",
       "        vertical-align: top;\n",
       "    }\n",
       "\n",
       "    .dataframe thead th {\n",
       "        text-align: right;\n",
       "    }\n",
       "</style>\n",
       "<table border=\"1\" class=\"dataframe\">\n",
       "  <thead>\n",
       "    <tr style=\"text-align: right;\">\n",
       "      <th></th>\n",
       "      <th>provinsi</th>\n",
       "      <th>bidang_pelatihan</th>\n",
       "      <th>total</th>\n",
       "    </tr>\n",
       "  </thead>\n",
       "  <tbody>\n",
       "    <tr>\n",
       "      <th>0</th>\n",
       "      <td>A</td>\n",
       "      <td>Bahasa</td>\n",
       "      <td>22</td>\n",
       "    </tr>\n",
       "    <tr>\n",
       "      <th>1</th>\n",
       "      <td>A</td>\n",
       "      <td>Bisnis</td>\n",
       "      <td>26</td>\n",
       "    </tr>\n",
       "    <tr>\n",
       "      <th>2</th>\n",
       "      <td>A</td>\n",
       "      <td>IT &amp; Data</td>\n",
       "      <td>22</td>\n",
       "    </tr>\n",
       "    <tr>\n",
       "      <th>3</th>\n",
       "      <td>B</td>\n",
       "      <td>Bahasa</td>\n",
       "      <td>25</td>\n",
       "    </tr>\n",
       "    <tr>\n",
       "      <th>4</th>\n",
       "      <td>B</td>\n",
       "      <td>Bisnis</td>\n",
       "      <td>26</td>\n",
       "    </tr>\n",
       "    <tr>\n",
       "      <th>5</th>\n",
       "      <td>B</td>\n",
       "      <td>IT &amp; Data</td>\n",
       "      <td>16</td>\n",
       "    </tr>\n",
       "    <tr>\n",
       "      <th>6</th>\n",
       "      <td>C</td>\n",
       "      <td>Bahasa</td>\n",
       "      <td>23</td>\n",
       "    </tr>\n",
       "    <tr>\n",
       "      <th>7</th>\n",
       "      <td>C</td>\n",
       "      <td>Bisnis</td>\n",
       "      <td>20</td>\n",
       "    </tr>\n",
       "    <tr>\n",
       "      <th>8</th>\n",
       "      <td>C</td>\n",
       "      <td>IT &amp; Data</td>\n",
       "      <td>20</td>\n",
       "    </tr>\n",
       "  </tbody>\n",
       "</table>\n",
       "</div>"
      ],
      "text/plain": [
       "  provinsi bidang_pelatihan  total\n",
       "0        A           Bahasa     22\n",
       "1        A           Bisnis     26\n",
       "2        A        IT & Data     22\n",
       "3        B           Bahasa     25\n",
       "4        B           Bisnis     26\n",
       "5        B        IT & Data     16\n",
       "6        C           Bahasa     23\n",
       "7        C           Bisnis     20\n",
       "8        C        IT & Data     20"
      ]
     },
     "execution_count": 292,
     "metadata": {},
     "output_type": "execute_result"
    }
   ],
   "source": [
    "# peminatan bidang pelatihan berdasarkan provinsi\n",
    "\n",
    "peminatan_provinsi = df[['data', 'provinsi', 'bidang_pelatihan']].groupby(['provinsi', 'bidang_pelatihan'], as_index=False).count().rename(columns={'data': 'total'})\n",
    "peminatan_provinsi"
   ]
  },
  {
   "cell_type": "code",
   "execution_count": 293,
   "id": "8528bdbe",
   "metadata": {},
   "outputs": [
    {
     "data": {
      "text/html": [
       "<div>\n",
       "<style scoped>\n",
       "    .dataframe tbody tr th:only-of-type {\n",
       "        vertical-align: middle;\n",
       "    }\n",
       "\n",
       "    .dataframe tbody tr th {\n",
       "        vertical-align: top;\n",
       "    }\n",
       "\n",
       "    .dataframe thead th {\n",
       "        text-align: right;\n",
       "    }\n",
       "</style>\n",
       "<table border=\"1\" class=\"dataframe\">\n",
       "  <thead>\n",
       "    <tr style=\"text-align: right;\">\n",
       "      <th></th>\n",
       "      <th>grup_umur</th>\n",
       "      <th>bidang_pelatihan</th>\n",
       "      <th>total</th>\n",
       "    </tr>\n",
       "  </thead>\n",
       "  <tbody>\n",
       "    <tr>\n",
       "      <th>0</th>\n",
       "      <td>18-25</td>\n",
       "      <td>Bahasa</td>\n",
       "      <td>24</td>\n",
       "    </tr>\n",
       "    <tr>\n",
       "      <th>1</th>\n",
       "      <td>18-25</td>\n",
       "      <td>Bisnis</td>\n",
       "      <td>15</td>\n",
       "    </tr>\n",
       "    <tr>\n",
       "      <th>2</th>\n",
       "      <td>18-25</td>\n",
       "      <td>IT &amp; Data</td>\n",
       "      <td>16</td>\n",
       "    </tr>\n",
       "    <tr>\n",
       "      <th>3</th>\n",
       "      <td>26-45</td>\n",
       "      <td>Bahasa</td>\n",
       "      <td>35</td>\n",
       "    </tr>\n",
       "    <tr>\n",
       "      <th>4</th>\n",
       "      <td>26-45</td>\n",
       "      <td>Bisnis</td>\n",
       "      <td>38</td>\n",
       "    </tr>\n",
       "    <tr>\n",
       "      <th>5</th>\n",
       "      <td>26-45</td>\n",
       "      <td>IT &amp; Data</td>\n",
       "      <td>36</td>\n",
       "    </tr>\n",
       "    <tr>\n",
       "      <th>6</th>\n",
       "      <td>Diatas 45</td>\n",
       "      <td>Bahasa</td>\n",
       "      <td>11</td>\n",
       "    </tr>\n",
       "    <tr>\n",
       "      <th>7</th>\n",
       "      <td>Diatas 45</td>\n",
       "      <td>Bisnis</td>\n",
       "      <td>19</td>\n",
       "    </tr>\n",
       "    <tr>\n",
       "      <th>8</th>\n",
       "      <td>Diatas 45</td>\n",
       "      <td>IT &amp; Data</td>\n",
       "      <td>6</td>\n",
       "    </tr>\n",
       "  </tbody>\n",
       "</table>\n",
       "</div>"
      ],
      "text/plain": [
       "   grup_umur bidang_pelatihan  total\n",
       "0      18-25           Bahasa     24\n",
       "1      18-25           Bisnis     15\n",
       "2      18-25        IT & Data     16\n",
       "3      26-45           Bahasa     35\n",
       "4      26-45           Bisnis     38\n",
       "5      26-45        IT & Data     36\n",
       "6  Diatas 45           Bahasa     11\n",
       "7  Diatas 45           Bisnis     19\n",
       "8  Diatas 45        IT & Data      6"
      ]
     },
     "execution_count": 293,
     "metadata": {},
     "output_type": "execute_result"
    }
   ],
   "source": [
    "# peminatan bidang pelatihan berdasarkan umur\n",
    "\n",
    "peminatan_umur = df[['data', 'grup_umur', 'bidang_pelatihan']].groupby(['grup_umur', 'bidang_pelatihan'], as_index=False).count().rename(columns={'data': 'total'})\n",
    "peminatan_umur"
   ]
  },
  {
   "cell_type": "code",
   "execution_count": 294,
   "id": "81962ed9",
   "metadata": {},
   "outputs": [],
   "source": [
    "# penghapusan kolom data\n",
    "\n",
    "del df['data']"
   ]
  },
  {
   "cell_type": "markdown",
   "id": "47e0d0fe",
   "metadata": {},
   "source": [
    "---"
   ]
  },
  {
   "cell_type": "markdown",
   "id": "fe8089e2",
   "metadata": {},
   "source": [
    "#### 3. Analisis korelasi"
   ]
  },
  {
   "cell_type": "code",
   "execution_count": 295,
   "id": "a1a23e2b",
   "metadata": {},
   "outputs": [
    {
     "name": "stderr",
     "output_type": "stream",
     "text": [
      "/tmp/ipykernel_12832/352051262.py:4: SettingWithCopyWarning: \n",
      "A value is trying to be set on a copy of a slice from a DataFrame\n",
      "\n",
      "See the caveats in the documentation: https://pandas.pydata.org/pandas-docs/stable/user_guide/indexing.html#returning-a-view-versus-a-copy\n",
      "  df['grade_umur'][df['grup_umur'] == '18-25'] = 3\n",
      "/tmp/ipykernel_12832/352051262.py:5: SettingWithCopyWarning: \n",
      "A value is trying to be set on a copy of a slice from a DataFrame\n",
      "\n",
      "See the caveats in the documentation: https://pandas.pydata.org/pandas-docs/stable/user_guide/indexing.html#returning-a-view-versus-a-copy\n",
      "  df['grade_umur'][df['grup_umur'] == '26-45'] = 2\n",
      "/tmp/ipykernel_12832/352051262.py:6: SettingWithCopyWarning: \n",
      "A value is trying to be set on a copy of a slice from a DataFrame\n",
      "\n",
      "See the caveats in the documentation: https://pandas.pydata.org/pandas-docs/stable/user_guide/indexing.html#returning-a-view-versus-a-copy\n",
      "  df['grade_umur'][df['grup_umur'] == 'Diatas 45'] = 1\n",
      "/tmp/ipykernel_12832/352051262.py:9: SettingWithCopyWarning: \n",
      "A value is trying to be set on a copy of a slice from a DataFrame\n",
      "\n",
      "See the caveats in the documentation: https://pandas.pydata.org/pandas-docs/stable/user_guide/indexing.html#returning-a-view-versus-a-copy\n",
      "  df['grade_penghasilan'][df['penghasilan_per_bulan'] == 'Dibawah Rp 1 Juta'] = 3\n",
      "/tmp/ipykernel_12832/352051262.py:10: SettingWithCopyWarning: \n",
      "A value is trying to be set on a copy of a slice from a DataFrame\n",
      "\n",
      "See the caveats in the documentation: https://pandas.pydata.org/pandas-docs/stable/user_guide/indexing.html#returning-a-view-versus-a-copy\n",
      "  df['grade_penghasilan'][df['penghasilan_per_bulan'] == 'Rp 1-3.5 Juta'] = 2\n",
      "/tmp/ipykernel_12832/352051262.py:11: SettingWithCopyWarning: \n",
      "A value is trying to be set on a copy of a slice from a DataFrame\n",
      "\n",
      "See the caveats in the documentation: https://pandas.pydata.org/pandas-docs/stable/user_guide/indexing.html#returning-a-view-versus-a-copy\n",
      "  df['grade_penghasilan'][df['penghasilan_per_bulan'] == 'Diatas Rp 3.5 Juta'] = 1\n"
     ]
    }
   ],
   "source": [
    "# penambahan kolom grade_umur dan grade_penghasilan untuk analisa korelasi\n",
    "\n",
    "df['grade_umur'] = 0\n",
    "df['grade_umur'][df['grup_umur'] == '18-25'] = 3\n",
    "df['grade_umur'][df['grup_umur'] == '26-45'] = 2\n",
    "df['grade_umur'][df['grup_umur'] == 'Diatas 45'] = 1\n",
    "\n",
    "df['grade_penghasilan'] = 0\n",
    "df['grade_penghasilan'][df['penghasilan_per_bulan'] == 'Dibawah Rp 1 Juta'] = 3\n",
    "df['grade_penghasilan'][df['penghasilan_per_bulan'] == 'Rp 1-3.5 Juta'] = 2\n",
    "df['grade_penghasilan'][df['penghasilan_per_bulan'] == 'Diatas Rp 3.5 Juta'] = 1"
   ]
  },
  {
   "cell_type": "code",
   "execution_count": 296,
   "id": "f119ccec",
   "metadata": {},
   "outputs": [
    {
     "data": {
      "text/html": [
       "<div>\n",
       "<style scoped>\n",
       "    .dataframe tbody tr th:only-of-type {\n",
       "        vertical-align: middle;\n",
       "    }\n",
       "\n",
       "    .dataframe tbody tr th {\n",
       "        vertical-align: top;\n",
       "    }\n",
       "\n",
       "    .dataframe thead th {\n",
       "        text-align: right;\n",
       "    }\n",
       "</style>\n",
       "<table border=\"1\" class=\"dataframe\">\n",
       "  <thead>\n",
       "    <tr style=\"text-align: right;\">\n",
       "      <th></th>\n",
       "      <th>id</th>\n",
       "      <th>jumlah_pelatihan_selesai</th>\n",
       "      <th>skor_kemampuan_dasar</th>\n",
       "      <th>skor_penilaian_pra</th>\n",
       "      <th>skor_penilaian_pasca</th>\n",
       "      <th>grade_umur</th>\n",
       "      <th>grade_penghasilan</th>\n",
       "    </tr>\n",
       "  </thead>\n",
       "  <tbody>\n",
       "    <tr>\n",
       "      <th>id</th>\n",
       "      <td>1.000000</td>\n",
       "      <td>0.073724</td>\n",
       "      <td>0.058729</td>\n",
       "      <td>0.044200</td>\n",
       "      <td>0.116853</td>\n",
       "      <td>0.030929</td>\n",
       "      <td>0.051365</td>\n",
       "    </tr>\n",
       "    <tr>\n",
       "      <th>jumlah_pelatihan_selesai</th>\n",
       "      <td>0.073724</td>\n",
       "      <td>1.000000</td>\n",
       "      <td>0.405381</td>\n",
       "      <td>0.365187</td>\n",
       "      <td>0.297892</td>\n",
       "      <td>0.075585</td>\n",
       "      <td>0.052194</td>\n",
       "    </tr>\n",
       "    <tr>\n",
       "      <th>skor_kemampuan_dasar</th>\n",
       "      <td>0.058729</td>\n",
       "      <td>0.405381</td>\n",
       "      <td>1.000000</td>\n",
       "      <td>0.943914</td>\n",
       "      <td>0.775695</td>\n",
       "      <td>0.091710</td>\n",
       "      <td>0.027961</td>\n",
       "    </tr>\n",
       "    <tr>\n",
       "      <th>skor_penilaian_pra</th>\n",
       "      <td>0.044200</td>\n",
       "      <td>0.365187</td>\n",
       "      <td>0.943914</td>\n",
       "      <td>1.000000</td>\n",
       "      <td>0.812935</td>\n",
       "      <td>0.118582</td>\n",
       "      <td>0.092466</td>\n",
       "    </tr>\n",
       "    <tr>\n",
       "      <th>skor_penilaian_pasca</th>\n",
       "      <td>0.116853</td>\n",
       "      <td>0.297892</td>\n",
       "      <td>0.775695</td>\n",
       "      <td>0.812935</td>\n",
       "      <td>1.000000</td>\n",
       "      <td>0.061250</td>\n",
       "      <td>0.076536</td>\n",
       "    </tr>\n",
       "    <tr>\n",
       "      <th>grade_umur</th>\n",
       "      <td>0.030929</td>\n",
       "      <td>0.075585</td>\n",
       "      <td>0.091710</td>\n",
       "      <td>0.118582</td>\n",
       "      <td>0.061250</td>\n",
       "      <td>1.000000</td>\n",
       "      <td>0.141979</td>\n",
       "    </tr>\n",
       "    <tr>\n",
       "      <th>grade_penghasilan</th>\n",
       "      <td>0.051365</td>\n",
       "      <td>0.052194</td>\n",
       "      <td>0.027961</td>\n",
       "      <td>0.092466</td>\n",
       "      <td>0.076536</td>\n",
       "      <td>0.141979</td>\n",
       "      <td>1.000000</td>\n",
       "    </tr>\n",
       "  </tbody>\n",
       "</table>\n",
       "</div>"
      ],
      "text/plain": [
       "                                id  jumlah_pelatihan_selesai  \\\n",
       "id                        1.000000                  0.073724   \n",
       "jumlah_pelatihan_selesai  0.073724                  1.000000   \n",
       "skor_kemampuan_dasar      0.058729                  0.405381   \n",
       "skor_penilaian_pra        0.044200                  0.365187   \n",
       "skor_penilaian_pasca      0.116853                  0.297892   \n",
       "grade_umur                0.030929                  0.075585   \n",
       "grade_penghasilan         0.051365                  0.052194   \n",
       "\n",
       "                          skor_kemampuan_dasar  skor_penilaian_pra  \\\n",
       "id                                    0.058729            0.044200   \n",
       "jumlah_pelatihan_selesai              0.405381            0.365187   \n",
       "skor_kemampuan_dasar                  1.000000            0.943914   \n",
       "skor_penilaian_pra                    0.943914            1.000000   \n",
       "skor_penilaian_pasca                  0.775695            0.812935   \n",
       "grade_umur                            0.091710            0.118582   \n",
       "grade_penghasilan                     0.027961            0.092466   \n",
       "\n",
       "                          skor_penilaian_pasca  grade_umur  grade_penghasilan  \n",
       "id                                    0.116853    0.030929           0.051365  \n",
       "jumlah_pelatihan_selesai              0.297892    0.075585           0.052194  \n",
       "skor_kemampuan_dasar                  0.775695    0.091710           0.027961  \n",
       "skor_penilaian_pra                    0.812935    0.118582           0.092466  \n",
       "skor_penilaian_pasca                  1.000000    0.061250           0.076536  \n",
       "grade_umur                            0.061250    1.000000           0.141979  \n",
       "grade_penghasilan                     0.076536    0.141979           1.000000  "
      ]
     },
     "execution_count": 296,
     "metadata": {},
     "output_type": "execute_result"
    }
   ],
   "source": [
    "# cek korelasi umum\n",
    "\n",
    "df.corr()"
   ]
  },
  {
   "cell_type": "markdown",
   "id": "c2067a28",
   "metadata": {},
   "source": [
    "---"
   ]
  },
  {
   "cell_type": "markdown",
   "id": "9ec31cec",
   "metadata": {},
   "source": [
    "## Data Modeling"
   ]
  },
  {
   "cell_type": "markdown",
   "id": "021ae64c",
   "metadata": {},
   "source": [
    "#### 4. Analisis regresi"
   ]
  },
  {
   "cell_type": "code",
   "execution_count": 297,
   "id": "ccc22ccc",
   "metadata": {},
   "outputs": [
    {
     "name": "stderr",
     "output_type": "stream",
     "text": [
      "/tmp/ipykernel_12832/3099684019.py:6: FutureWarning: Support for multi-dimensional indexing (e.g. `obj[:, None]`) is deprecated and will be removed in a future version.  Convert to a numpy array before indexing instead.\n",
      "  X_pra = x_pra[:, np.newaxis]\n"
     ]
    }
   ],
   "source": [
    "# membuat pemodelan untuk memprediksi skor_penilaian_pasca berdasarkan skor_penilaian_pra\n",
    "# menggunakan analisis regresi sederhana\n",
    "\n",
    "# pemodelan dengan data training\n",
    "x_pra = df['skor_penilaian_pra']\n",
    "X_pra = x_pra[:, np.newaxis]\n",
    "y_pasca = df['skor_penilaian_pasca']\n",
    "\n",
    "regressor = LinearRegression()\n",
    "model = regressor.fit(X_pra, y_pasca)"
   ]
  },
  {
   "cell_type": "code",
   "execution_count": 298,
   "id": "b7f6bbcd",
   "metadata": {},
   "outputs": [
    {
     "data": {
      "text/plain": [
       "array([1.00799766])"
      ]
     },
     "execution_count": 298,
     "metadata": {},
     "output_type": "execute_result"
    }
   ],
   "source": [
    "# cek nilai coeficient\n",
    "\n",
    "regressor.coef_"
   ]
  },
  {
   "cell_type": "code",
   "execution_count": 299,
   "id": "1eac787d",
   "metadata": {},
   "outputs": [
    {
     "data": {
      "text/plain": [
       "13.131258040971247"
      ]
     },
     "execution_count": 299,
     "metadata": {},
     "output_type": "execute_result"
    }
   ],
   "source": [
    "# cek nilai intercept\n",
    "\n",
    "regressor.intercept_"
   ]
  },
  {
   "cell_type": "markdown",
   "id": "d31dd1ec",
   "metadata": {},
   "source": [
    "---"
   ]
  },
  {
   "cell_type": "markdown",
   "id": "41d21149",
   "metadata": {},
   "source": [
    "## Data Visualization"
   ]
  },
  {
   "cell_type": "code",
   "execution_count": 300,
   "id": "ff5fff9b",
   "metadata": {},
   "outputs": [
    {
     "data": {
      "text/plain": [
       "<matplotlib.collections.PathCollection at 0x7f523ad69130>"
      ]
     },
     "execution_count": 300,
     "metadata": {},
     "output_type": "execute_result"
    },
    {
     "data": {
      "image/png": "[encoded data removed]",
      "text/plain": [
       "<Figure size 432x288 with 1 Axes>"
      ]
     },
     "metadata": {
      "needs_background": "light"
     },
     "output_type": "display_data"
    }
   ],
   "source": [
    "# persebaran korelasi data skor_penilaian_pasca terhadap skor_penilaian_pra\n",
    "# divisualisasikan dengan scatter plot\n",
    "\n",
    "plt.scatter(df['skor_penilaian_pra'], df['skor_penilaian_pasca'])"
   ]
  },
  {
   "cell_type": "code",
   "execution_count": 301,
   "id": "2432ff21",
   "metadata": {},
   "outputs": [
    {
     "data": {
      "text/plain": [
       "[<matplotlib.lines.Line2D at 0x7f523ace4160>]"
      ]
     },
     "execution_count": 301,
     "metadata": {},
     "output_type": "execute_result"
    },
    {
     "data": {
      "image/png": "[encoded data removed]",
      "text/plain": [
       "<Figure size 432x288 with 1 Axes>"
      ]
     },
     "metadata": {
      "needs_background": "light"
     },
     "output_type": "display_data"
    }
   ],
   "source": [
    "# scatter plot dengan penambahan garis prediksi hasil model analisis regresi\n",
    "\n",
    "plt.scatter(X_pra, y_pasca)\n",
    "\n",
    "y_pred = regressor.predict(X_pra)\n",
    "plt.plot(X_pra, y_pred, color='red')"
   ]
  },
  {
   "cell_type": "code",
   "execution_count": 302,
   "id": "cb70d01b",
   "metadata": {},
   "outputs": [
    {
     "data": {
      "text/plain": [
       "0.6608631691133463"
      ]
     },
     "execution_count": 302,
     "metadata": {},
     "output_type": "execute_result"
    }
   ],
   "source": [
    "# cek nilai prediksi pada model\n",
    "\n",
    "regressor.score(X_pra, y_pasca)"
   ]
  },
  {
   "cell_type": "code",
   "execution_count": 308,
   "id": "dbaf51d0",
   "metadata": {},
   "outputs": [
    {
     "data": {
      "text/plain": [
       "array([[81]])"
      ]
     },
     "execution_count": 308,
     "metadata": {},
     "output_type": "execute_result"
    }
   ],
   "source": [
    "# generate nilai random ~90\n",
    "\n",
    "X_baru = np.random.randint(90, size=(1,1))\n",
    "X_baru"
   ]
  },
  {
   "cell_type": "code",
   "execution_count": 312,
   "id": "0c0bec46",
   "metadata": {},
   "outputs": [
    {
     "data": {
      "text/plain": [
       "array([94.77906885])"
      ]
     },
     "execution_count": 312,
     "metadata": {},
     "output_type": "execute_result"
    }
   ],
   "source": [
    "# tes prediksi dengan nilai random generate\n",
    "\n",
    "y_pred = regressor.predict(X_baru)\n",
    "y_pred"
   ]
  }
 ],
 "metadata": {
  "kernelspec": {
   "display_name": "Python 3 (ipykernel)",
   "language": "python",
   "name": "python3"
  },
  "language_info": {
   "codemirror_mode": {
    "name": "ipython",
    "version": 3
   },
   "file_extension": ".py",
   "mimetype": "text/x-python",
   "name": "python",
   "nbconvert_exporter": "python",
   "pygments_lexer": "ipython3",
   "version": "3.8.10"
  }
 },
 "nbformat": 4,
 "nbformat_minor": 5
}
